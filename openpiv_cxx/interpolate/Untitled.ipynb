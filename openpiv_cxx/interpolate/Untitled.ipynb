{
 "cells": [
  {
   "cell_type": "code",
   "execution_count": 1,
   "id": "4076f585-2103-4638-a670-929396152ba8",
   "metadata": {},
   "outputs": [],
   "source": [
    "import numpy as np\n",
    "from openpiv_cxx import interpolate"
   ]
  },
  {
   "cell_type": "code",
   "execution_count": 27,
   "id": "3edead31-d148-408a-9d0b-4db865a46a1f",
   "metadata": {},
   "outputs": [
    {
     "data": {
      "text/plain": [
       "array([ 0.,  8., 16., 24.])"
      ]
     },
     "execution_count": 27,
     "metadata": {},
     "output_type": "execute_result"
    }
   ],
   "source": [
    "X"
   ]
  },
  {
   "cell_type": "code",
   "execution_count": 34,
   "id": "4204cfc5-7bf5-45fc-b72c-617b12b22f65",
   "metadata": {},
   "outputs": [],
   "source": [
    "Z = np.ones([4, 4], dtype = \"float64\") * 2\n",
    "X, Y = np.linspace(0, 24, 4), np.linspace(0, 24, 4)\n",
    "\n",
    "xq = np.array([4.0], dtype = \"int64\")\n",
    "yq = np.array([3.5], dtype = \"int64\")\n",
    "\n",
    "out = interpolate.bilinear2D(\n",
    "        X, Y,\n",
    "        Z,\n",
    "        xq, yq\n",
    "        )"
   ]
  },
  {
   "cell_type": "code",
   "execution_count": 35,
   "id": "d06e82a6-d93e-44b6-8c67-2146bea79795",
   "metadata": {},
   "outputs": [
    {
     "data": {
      "text/plain": [
       "array([[2.]])"
      ]
     },
     "execution_count": 35,
     "metadata": {},
     "output_type": "execute_result"
    }
   ],
   "source": [
    "out"
   ]
  },
  {
   "cell_type": "code",
   "execution_count": null,
   "id": "8446b545-c5ed-4915-8628-205f22ae5cec",
   "metadata": {},
   "outputs": [],
   "source": []
  }
 ],
 "metadata": {
  "kernelspec": {
   "display_name": "Python 3",
   "language": "python",
   "name": "python3"
  },
  "language_info": {
   "codemirror_mode": {
    "name": "ipython",
    "version": 3
   },
   "file_extension": ".py",
   "mimetype": "text/x-python",
   "name": "python",
   "nbconvert_exporter": "python",
   "pygments_lexer": "ipython3",
   "version": "3.8.5"
  }
 },
 "nbformat": 4,
 "nbformat_minor": 5
}
